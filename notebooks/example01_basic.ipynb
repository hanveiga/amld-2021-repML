{
 "cells": [
  {
   "cell_type": "markdown",
   "id": "9f5f934f",
   "metadata": {},
   "source": [
    "# AMLD 2021\n",
    "\n",
    "> ##### Machine Learning in Science: Encoding physical constraints and good development practices\n",
    "\n",
    "\n",
    "## Example 01 - Basic Reproducibility\n",
    "\n",
    "In this notebook, we start by demonstrating some of the more fundamental approaches to reproducability. The models that we will be training are simplified versions of the models used in a real astrophysics problem. Later in the workshop, we will improve these models to obey physical laws, such as the conservation of mass.\n",
    "\n",
    "### Workshop Organizers\n",
    "\n",
    "* Dr. Maria Han Veiga (University of Michigan, USA)\n",
    "\n",
    "* Dr. Miles Timpe (University of Zurich, Switzerland)"
   ]
  },
  {
   "cell_type": "markdown",
   "id": "50b80c5a",
   "metadata": {},
   "source": [
    "### Import libraries"
   ]
  },
  {
   "cell_type": "code",
   "execution_count": 1,
   "id": "833ddbd9",
   "metadata": {},
   "outputs": [
    {
     "name": "stdout",
     "output_type": "stream",
     "text": [
      "Python version: 3.8.5 (default, Sep  4 2020, 07:30:14) \n",
      "[GCC 7.3.0]\n"
     ]
    }
   ],
   "source": [
    "from joblib import dump, load\n",
    "import keras\n",
    "from keras.models import Sequential\n",
    "from keras.layers import Input, Dense\n",
    "from keras.callbacks import EarlyStopping\n",
    "import matplotlib.pyplot as plt\n",
    "import numpy as np\n",
    "import os\n",
    "import pandas as pd\n",
    "import random\n",
    "from sklearn.metrics import r2_score\n",
    "from sklearn.neural_network import MLPRegressor\n",
    "from sklearn import preprocessing\n",
    "\n",
    "\n",
    "# We can define a global seed value to make our lives easier\n",
    "seed = 42\n",
    "\n",
    "# Set random seeds\n",
    "random.seed(seed)\n",
    "os.environ['PYTHONHASHSEED'] = str(seed)\n",
    "np.random.seed(seed)\n",
    "\n",
    "\n",
    "# Versions can also influence reproducibility\n",
    "from sys import version\n",
    "print(f\"Python version: {version}\")\n",
    "\n",
    "\n",
    "# TensorFlow for the curious\n",
    "#import tensorflow as tf\n",
    "#tf.random.set_seed(seed) # TensorFlow2\n",
    "#tf.compat.v1.set_random_seed(random_seed)  # TensorFlow1\n",
    "#print(tf.__version__)"
   ]
  },
  {
   "cell_type": "markdown",
   "id": "5d26deee",
   "metadata": {},
   "source": [
    "### Load training data\n",
    "\n",
    "The datasets for this problem are relatively small by machine learning standards. Therefore, we provide them as CSV files. The train and test datasets together contain data on 14,856 pairwise collisions between planets. To keep things simple, we will only focus on three targets, which are subject to physical conservation laws; the mass of the largest remnant (\"lr_mass\"), the mass of the second largest remnant (\"slr_mass\"), and the mass of the collision debris (\"debris_mass\"). The mass of these three objects should match exactly the total mass that went into the collisions (\"mtotal\")."
   ]
  },
  {
   "cell_type": "code",
   "execution_count": 2,
   "id": "04ea84e2",
   "metadata": {},
   "outputs": [],
   "source": [
    "#target = 'lr_mass'\n",
    "#target = 'slr_mass'\n",
    "target = 'debris_mass'\n",
    "\n",
    "features = ['mtotal', 'gamma', 'b_inf', 'v_inf',\n",
    "            'targ_core_fraction', 'targ_omega', 'targ_theta', 'targ_phi',\n",
    "            'proj_core_fraction', 'proj_omega', 'proj_theta', 'proj_phi',\n",
    "            'lr_mass', target]\n",
    "\n",
    "x_train = pd.read_csv('../datasets/train.csv', usecols=features)\n",
    "x_test  = pd.read_csv('../datasets/test.csv', usecols=features)\n",
    "\n",
    "x_train = x_train[x_train['lr_mass'] > 0]\n",
    "x_test = x_test[x_test['lr_mass'] > 0]\n",
    "\n",
    "if target != 'lr_mass':\n",
    "    x_train.pop('lr_mass')\n",
    "    x_test.pop('lr_mass')\n",
    "\n",
    "y_train = x_train.pop(target)\n",
    "y_test  = x_test.pop(target)"
   ]
  },
  {
   "cell_type": "markdown",
   "id": "3925ac72",
   "metadata": {},
   "source": [
    "### Scale data and save the scaler\n",
    "\n",
    "While most of the focus in machine learning is on the models, an important component of reproducability are the scaling methods. Here, we are using scikit-learn's standard scaler. Anyone that wants to reproduce our results will need to know exactly how the data was scaled prior to training. Therefore, once we have fit the scaler, we save it so that it can be loaded at a later date."
   ]
  },
  {
   "cell_type": "code",
   "execution_count": 3,
   "id": "8f8db2c7",
   "metadata": {},
   "outputs": [],
   "source": [
    "# Scale features\n",
    "x_scaler = preprocessing.StandardScaler()\n",
    "\n",
    "# Fit scaler to training data\n",
    "x_scaler.fit(x_train)\n",
    "\n",
    "# Save scaler\n",
    "dump(x_scaler, f\"../models/x_scaler.joblib\")\n",
    "\n",
    "# Make sure to apply same scaler to train and test!\n",
    "scaled_x_train = x_scaler.transform(x_train)\n",
    "scaled_x_test  = x_scaler.transform(x_test)\n",
    "\n",
    "scaled_x_train = pd.DataFrame(scaled_x_train, columns=x_train.columns)\n",
    "scaled_x_test  = pd.DataFrame(scaled_x_test, columns=x_test.columns)\n",
    "\n",
    "del x_scaler"
   ]
  },
  {
   "cell_type": "code",
   "execution_count": 4,
   "id": "bb1347b0",
   "metadata": {},
   "outputs": [],
   "source": [
    "# Scale target\n",
    "y_scaler = preprocessing.StandardScaler()\n",
    "\n",
    "y_scaler.fit(y_train.values.reshape(-1, 1))\n",
    "\n",
    "# Save scaler\n",
    "dump(y_scaler, f\"../models/y_scaler_{target}.joblib\")\n",
    "\n",
    "scaled_y_train = y_scaler.transform(y_train.values.reshape(-1, 1))\n",
    "scaled_y_test  = y_scaler.transform(y_test.values.reshape(-1, 1))\n",
    "\n",
    "scaled_y_train = pd.Series(data=np.squeeze(scaled_y_train), name=target)\n",
    "scaled_y_test  = pd.Series(data=np.squeeze(scaled_y_test), name=target)\n",
    "\n",
    "del y_scaler"
   ]
  },
  {
   "cell_type": "markdown",
   "id": "940c1451",
   "metadata": {},
   "source": [
    "### Train the model\n",
    "\n",
    "In order to keep things simple, we are going to use a simple multi-layer perceptron (MLP), which is a type of feed-forward neural network. In a serious setting, we would employ more sophisticated training strategies, such as cross-validation and hyperparameter optimization, but for now we are going to skip those steps to keep the code readable. \n",
    "\n",
    "Notice that once the model has made its predictions, we have apply the inverse scaler to the predictions. In this case, we could have simply called on the scaler we created above, but here we show how to load the scaler object saved with joblib."
   ]
  },
  {
   "cell_type": "code",
   "execution_count": 5,
   "id": "a71674e2",
   "metadata": {},
   "outputs": [
    {
     "name": "stdout",
     "output_type": "stream",
     "text": [
      "Prediction r2_score: 0.9863\n"
     ]
    }
   ],
   "source": [
    "# Define model (MLP) with sklearn\n",
    "model = MLPRegressor(hidden_layer_sizes=[24,24,24],\n",
    "                     max_iter=1000, early_stopping=True,\n",
    "                     random_state=seed)\n",
    "\n",
    "\n",
    "# Fit model\n",
    "model.fit(scaled_x_train, scaled_y_train)\n",
    "\n",
    "# Make predictions\n",
    "scaled_y_pred = model.predict(scaled_x_test)\n",
    "\n",
    "# Apply inverse scaling to the model predictions\n",
    "y_scaler = load(f\"../models/y_scaler_{target}.joblib\")\n",
    "\n",
    "y_pred = pd.Series(y_scaler.inverse_transform(scaled_y_pred), name='y_pred').values\n",
    "\n",
    "# Calculate the quality of the predictions with the r2 score\n",
    "r2 = r2_score(y_test, y_pred)\n",
    "\n",
    "\n",
    "# Save the model with joblib\n",
    "dump(model, f\"../models/regressor_mlp_{target}.joblib\") \n",
    "\n",
    "print(f\"Prediction r2_score: {r2:.4f}\")"
   ]
  },
  {
   "cell_type": "code",
   "execution_count": 6,
   "id": "725bdfeb",
   "metadata": {},
   "outputs": [
    {
     "name": "stdout",
     "output_type": "stream",
     "text": [
      "Prediction r2_score: 0.9878\n"
     ]
    }
   ],
   "source": [
    "# Define model (MLP) using Keras\n",
    "_, input_size = scaled_x_train.shape\n",
    "\n",
    "inputs = Input(shape=(input_size,))\n",
    "f = Dense(24,activation='relu')(inputs)\n",
    "f = Dense(24,activation='relu')(f)\n",
    "f = Dense(24,activation='relu')(f)\n",
    "outputs = Dense(1)(f)\n",
    "\n",
    "model = keras.Model(inputs, outputs)\n",
    "\n",
    "model.compile('Adam', loss=\"mse\", metrics=\"mse\")\n",
    "\n",
    "\n",
    "# Fit model\n",
    "model.fit(scaled_x_train, scaled_y_train,\n",
    "          validation_split=0.05, epochs=1000,\n",
    "          callbacks=[EarlyStopping(patience=70)],\n",
    "          verbose=0)\n",
    "\n",
    "\n",
    "# Make predictions\n",
    "scaled_y_pred = model.predict(scaled_x_test)\n",
    "\n",
    "# Apply inverse scaling to the model predictions\n",
    "y_scaler = load(f\"../models/y_scaler_{target}.joblib\")\n",
    "\n",
    "y_pred = pd.Series(y_scaler.inverse_transform(scaled_y_pred.flatten()), name='y_pred').values\n",
    "\n",
    "# Calculate the quality of the predictions with the r2 score\n",
    "r2 = r2_score(y_test, y_pred)\n",
    "\n",
    "\n",
    "# Save the model with keras\n",
    "model.save(f\"../models/regressor_mlp_{target}.keras\")\n",
    "\n",
    "print(f\"Prediction r2_score: {r2:.4f}\")"
   ]
  },
  {
   "cell_type": "markdown",
   "id": "4cc49503",
   "metadata": {},
   "source": [
    "### A brief look at physical constraints: Does the vanilla model obey physics?\n",
    "\n",
    "While the data is physically consistent, our neural network has no knowledge of physical laws. Thus, its predictions will not necessarily obey even basic physical constraints (e.g., mass can't be negative). In order to make the predictions physically consistent, we can impose some quick and dirty constraints on the predictions after they have made. \n",
    "\n",
    "\n",
    "Here, we simply set any negative predictions to zero and any predictions greater than the total initial mass (\"mtot\") to mtot; any remaining mass is presumed to be in the debris. By doing this, we avoid violation to very fundamental physical principles: mass can't be negative and mass can't be created out of thin air (or the vacuum of space in this case). \n",
    "\n",
    "The simple constraints that we imposed have slightly improved the unconstrained r2 score. Later in the workshop, we will expand on these physical constraints and explore other methods for acheiving physical self-consistency."
   ]
  },
  {
   "cell_type": "code",
   "execution_count": 7,
   "id": "54e735d3",
   "metadata": {},
   "outputs": [
    {
     "name": "stdout",
     "output_type": "stream",
     "text": [
      "Physics violations: 92 out of 2383\n",
      "Physics-aware r2 score: 0.9879\n"
     ]
    }
   ],
   "source": [
    "# Counter for violations\n",
    "i = 0\n",
    "\n",
    "y_pred_constrained = []\n",
    "\n",
    "deltaM = []\n",
    "deltaM_norm = []\n",
    "\n",
    "for mtot, y_t, y_p in zip(x_test.mtotal, y_test, y_pred):\n",
    "    \n",
    "    deltaM.append( y_p-y_t )\n",
    "    deltaM_norm.append( (y_p-y_t)/y_t )\n",
    "    \n",
    "    # If mass is greater than the initial total mass\n",
    "    if y_p > mtot:\n",
    "        i += 1\n",
    "    # If mass is negative\n",
    "    elif y_p < 0:\n",
    "        i += 1\n",
    "        \n",
    "    y_pred_constrained.append(np.max([0.0, np.min([y_p, mtot])]))\n",
    "        \n",
    "        \n",
    "print(f\"Physics violations: {i} out of {len(y_pred)}\")\n",
    "\n",
    "r2_constrained = r2_score(y_test, y_pred_constrained)\n",
    "\n",
    "print(f\"Physics-aware r2 score: {r2_constrained:.4f}\")"
   ]
  },
  {
   "cell_type": "markdown",
   "id": "6c0e2884",
   "metadata": {},
   "source": [
    "### Plots\n",
    "\n",
    "In Figure 1, we show the histogram of normalized mass residuals (i.e., the difference between the predicted and true masses as a fraction of the true mass). We can see that the model tends to over- and underpredict at about equal rates.\n",
    "\n",
    "We can quickly plot the predicted vs true values for the model, both with and without constraints.The gap for \"lr_mass\" between 0.0 and 0.1 is because the largest remnant is defined to be more massive than 0.1 times the total mass. In the actual scientific work, this was handled using a multistep prediction method, whereby a classifier first classified the collision into specific outcome types. Here we have ignored that step."
   ]
  },
  {
   "cell_type": "code",
   "execution_count": 8,
   "id": "fabda8ad",
   "metadata": {},
   "outputs": [
    {
     "data": {
      "image/png": "[encoded data removed]",
      "text/plain": [
       "<Figure size 432x432 with 1 Axes>"
      ]
     },
     "metadata": {
      "needs_background": "light"
     },
     "output_type": "display_data"
    }
   ],
   "source": [
    "# Histogram\n",
    "fig1, ax1 = plt.subplots(1, 1, figsize=(6,6))\n",
    "\n",
    "ax1.set_xlabel(r'$(y_{pred} - y_{true})~/~y_{true}$')\n",
    "\n",
    "ax1.axvline(x=0, color='red', alpha=0.5)\n",
    "\n",
    "ax1.hist(deltaM_norm, bins=np.linspace(-0.5, 0.5, num=50),\n",
    "        color='dodgerblue')\n",
    "\n",
    "plt.tight_layout()"
   ]
  },
  {
   "cell_type": "code",
   "execution_count": 9,
   "id": "dea77d57",
   "metadata": {},
   "outputs": [
    {
     "data": {
      "image/png": "[encoded data removed]",
      "text/plain": [
       "<Figure size 864x432 with 2 Axes>"
      ]
     },
     "metadata": {
      "needs_background": "light"
     },
     "output_type": "display_data"
    }
   ],
   "source": [
    "fig2, ax2 = plt.subplots(1, 2, figsize=(12,6), sharex=True, sharey=True)\n",
    "\n",
    "\n",
    "y_test_norm = []\n",
    "y_pred_norm = []\n",
    "y_phys_norm = []\n",
    "\n",
    "for m_tot, y_t, y_p, y_c in zip(x_test.mtotal, y_test, y_pred, y_pred_constrained):\n",
    "    y_test_norm.append( y_t / m_tot )\n",
    "    y_pred_norm.append( y_p / m_tot )\n",
    "    y_phys_norm.append( y_c / m_tot )\n",
    "    \n",
    "\n",
    "ax = ax2[0]\n",
    "\n",
    "ax.set_title('Unconstrained')\n",
    "ax.set_xlabel('True Value')\n",
    "ax.set_ylabel('Predicted Value')\n",
    "\n",
    "ax.grid(True)\n",
    "\n",
    "ax.scatter(y_test_norm, y_pred_norm, marker='.', color='dodgerblue')\n",
    "\n",
    "ax.plot([0,1], [0,1], color='red')\n",
    "\n",
    "\n",
    "ax = ax2[1]\n",
    "\n",
    "ax.set_title('Constrained')\n",
    "ax.set_xlabel('True Value')\n",
    "\n",
    "ax.grid(True)\n",
    "\n",
    "ax.scatter(y_test_norm, y_phys_norm, marker='.', color='dodgerblue')\n",
    "\n",
    "ax.plot([0,1], [0,1], color='red')\n",
    "\n",
    "plt.tight_layout()"
   ]
  },
  {
   "cell_type": "code",
   "execution_count": null,
   "id": "72eedbdf",
   "metadata": {},
   "outputs": [],
   "source": []
  }
 ],
 "metadata": {
  "kernelspec": {
   "display_name": "Python 3",
   "language": "python",
   "name": "python3"
  },
  "language_info": {
   "codemirror_mode": {
    "name": "ipython",
    "version": 3
   },
   "file_extension": ".py",
   "mimetype": "text/x-python",
   "name": "python",
   "nbconvert_exporter": "python",
   "pygments_lexer": "ipython3",
   "version": "3.8.5"
  }
 },
 "nbformat": 4,
 "nbformat_minor": 5
}
