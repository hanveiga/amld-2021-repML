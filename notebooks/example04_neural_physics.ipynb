{
 "cells": [
  {
   "cell_type": "markdown",
   "id": "096047f9",
   "metadata": {},
   "source": [
    "# AMLD 2021\n",
    "\n",
    "> ##### Machine Learning in Science: Encoding physical constraints and good development practices\n",
    "\n",
    "\n",
    "## Example 04 - A physics-guided multi-target neural network\n",
    "\n",
    "In this notebook, we demonstrate a method for encouraging physical consistency of predictions by neural networks. We start by demonstrating how the loss function can be modified to penalize physics violations in a single-target regressor. We then extend this method to a multi-target regressor to show how the loss function can be modified to penalize violations of conservation laws.\n",
    "\n",
    "### Workshop Organizers\n",
    "\n",
    "* Dr. Maria Han Veiga (University of Michigan, USA)\n",
    "\n",
    "* Dr. Miles Timpe (University of Zurich, Switzerland)"
   ]
  },
  {
   "cell_type": "markdown",
   "id": "a0bbbe88",
   "metadata": {},
   "source": [
    "### Import libraries"
   ]
  },
  {
   "cell_type": "code",
   "execution_count": 1,
   "id": "e6025f60",
   "metadata": {},
   "outputs": [
    {
     "name": "stdout",
     "output_type": "stream",
     "text": [
      "Python version: 3.8.5 (default, Sep  4 2020, 07:30:14) \n",
      "[GCC 7.3.0]\n"
     ]
    }
   ],
   "source": [
    "from joblib import dump, load\n",
    "import matplotlib.pyplot as plt\n",
    "import numpy as np\n",
    "import os\n",
    "import pandas as pd\n",
    "import random\n",
    "from sklearn.metrics import r2_score\n",
    "\n",
    "\n",
    "# Global seed value\n",
    "seed = 42\n",
    "\n",
    "# Set random seeds\n",
    "random.seed(seed)\n",
    "os.environ['PYTHONHASHSEED'] = str(seed)\n",
    "np.random.seed(seed)\n",
    "\n",
    "\n",
    "# Versions can also influence reproducibility\n",
    "from sys import version\n",
    "print(f\"Python version: {version}\")"
   ]
  },
  {
   "cell_type": "markdown",
   "id": "9ef50425",
   "metadata": {},
   "source": [
    "### Load test data and scalers"
   ]
  },
  {
   "cell_type": "markdown",
   "id": "79b82b44",
   "metadata": {},
   "source": [
    "We focus first on lr_mass."
   ]
  },
  {
   "cell_type": "code",
   "execution_count": 2,
   "id": "395bd312",
   "metadata": {},
   "outputs": [],
   "source": [
    "neurons = 12\n",
    "\n",
    "target = 'lr_mass'\n",
    "\n",
    "features = ['mtotal', 'gamma', 'b_inf', 'v_inf',\n",
    "            'targ_core_fraction', 'targ_omega', 'targ_theta', 'targ_phi',\n",
    "            'proj_core_fraction', 'proj_omega', 'proj_theta', 'proj_phi',\n",
    "            target]\n",
    "\n",
    "x_train = pd.read_csv('../datasets/train.csv', usecols=features)\n",
    "x_test  = pd.read_csv('../datasets/test.csv', usecols=features)\n",
    "\n",
    "x_train = x_train[x_train['lr_mass'] > 0]\n",
    "x_test = x_test[x_test['lr_mass'] > 0]\n",
    "\n",
    "if target != 'lr_mass':\n",
    "    x_train.pop('lr_mass')\n",
    "    x_test.pop('lr_mass')\n",
    "\n",
    "y_train = x_train.pop(target)\n",
    "y_test  = x_test.pop(target)\n",
    "\n",
    "\n",
    "# Load scalers and scale targets\n",
    "y_scaler = load(f\"../models/y_scaler_{target}.joblib\")\n",
    "\n",
    "scaled_y_train = y_scaler.transform(y_train.values.reshape(-1, 1))\n",
    "scaled_y_test  = y_scaler.transform(y_test.values.reshape(-1, 1))\n",
    "    \n",
    "# Scale features\n",
    "x_scaler = load(f\"../models/x_scaler.joblib\")\n",
    "\n",
    "scaled_x_train = pd.DataFrame(x_scaler.transform(x_train), columns=x_train.columns)\n",
    "scaled_x_test = pd.DataFrame(x_scaler.transform(x_test), columns=x_test.columns)"
   ]
  },
  {
   "cell_type": "markdown",
   "id": "a710ea8d",
   "metadata": {},
   "source": [
    "### Setup physics informed neural network\n",
    "\n",
    "Here, we will first focus on the 'lr_mass' target"
   ]
  },
  {
   "cell_type": "code",
   "execution_count": 3,
   "id": "8b53dfa6",
   "metadata": {},
   "outputs": [],
   "source": [
    "# Define model (MLP) using Keras\n",
    "import keras\n",
    "from keras.models import Sequential\n",
    "from keras.layers import Input, Dense, Subtract, Lambda, add, ReLU\n",
    "from keras.callbacks import EarlyStopping\n",
    "\n",
    "target = 'lr_mass'\n",
    "\n",
    "_, input_size = scaled_x_train.shape\n",
    "\n",
    "# Load previously trained model with no knowledge of physical constraints\n",
    "model_uninformed = keras.models.load_model(f\"../models/regressor_mlp_{target}.keras\")\n",
    "\n",
    "# This particular model will predict scaled target values\n",
    "y_pred_naive = model_uninformed.predict(scaled_x_test)\n",
    "\n",
    "# Apply inverse scaling to the model predictions\n",
    "y_scaler = load(f\"../models/y_scaler_{target}.joblib\")\n",
    "\n",
    "y_pred_naive = pd.Series(y_scaler.inverse_transform(y_pred_naive.flatten()), name='y_pred').values"
   ]
  },
  {
   "cell_type": "markdown",
   "id": "1458ea17",
   "metadata": {},
   "source": [
    "## How do we encode the constraint?\n",
    "\n",
    "We want to penalise the model if the prediction of 'lr_mass' is larger than 'mtot'.   \n",
    "\n",
    "This means, if the quantity (lr_mass - mtot) is positive, then we are generating mass.   \n",
    "\n",
    "We can use a ReLU on this quantity, this way, if this quantity is positive, it will contribute to the loss. If this quantity is 0 or negative, lr_mass is smaller than mtot and it does not contribute to the loss.\n",
    "\n",
    "\n",
    "$$ ReLU(m_{lr}, m_{tot}) = \\left\\{\n",
    "\\begin{array}{ll}\n",
    "      -m_{lr} & \\text{for} \\quad m_{lr} < 0 \\\\\n",
    "      0 & \\text{for} \\quad 0 \\leq m_{lr} \\leq m_{tot} \\\\\n",
    "      m_{lr} - m_{tot} & \\text{for} \\quad m_{lr } > m_{tot}\n",
    "\\end{array} \\right. $$"
   ]
  },
  {
   "cell_type": "code",
   "execution_count": 4,
   "id": "5cd297a8",
   "metadata": {},
   "outputs": [
    {
     "name": "stdout",
     "output_type": "stream",
     "text": [
      "CPU times: user 7min 42s, sys: 7min 52s, total: 15min 35s\n",
      "Wall time: 2min 4s\n",
      "Prediction r2_score: -0.0342\n"
     ]
    }
   ],
   "source": [
    "# Define model (MLP) using Keras\n",
    "from keras import backend as K\n",
    "import tensorflow as tf\n",
    "import sys\n",
    "\n",
    "\n",
    "# Define custom loss function\n",
    "@tf.autograph.experimental.do_not_convert\n",
    "def custom_loss(data, y_pred):\n",
    "    \n",
    "    overshoot_weight=0.5\n",
    "    positivity_weight=0.5\n",
    "\n",
    "    y_true = data[:,0]\n",
    "    s1 = data[:,1]\n",
    "        \n",
    "    overshoot = K.mean(ReLU()(Lambda(lambda x: x)(Subtract()([y_pred,s1]))))\n",
    "    positivity = K.mean(ReLU()(Lambda(lambda x: -x)(y_pred)))\n",
    "\n",
    "    loss = keras.losses.mean_squared_error(y_true, y_pred) \\\n",
    "            + overshoot_weight * overshoot \\\n",
    "            + positivity_weight * positivity\n",
    "\n",
    "    return loss\n",
    "\n",
    "\n",
    "# Define model\n",
    "inputs = Input(shape=(input_size,))\n",
    "f = Dense(neurons, activation='relu')(inputs)\n",
    "f = Dense(neurons, activation='relu')(f)\n",
    "f = Dense(neurons, activation='relu')(f)\n",
    "outputs = Dense(1)(f)\n",
    "\n",
    "model = keras.Model(inputs, outputs)\n",
    "\n",
    "\n",
    "model.compile('Adam', loss=custom_loss, metrics=[\"mse\"])\n",
    "\n",
    "\n",
    "y_hack = np.vstack((y_train.values, x_train.values[:,0])).T\n",
    "            \n",
    "\n",
    "%time model.fit(x_train, y_hack, epochs=1000, validation_split=0.05, callbacks=[EarlyStopping(patience=50)], verbose=0)\n",
    "\n",
    "\n",
    "# Make predictions\n",
    "y_pred_phys = model.predict(x_test)\n",
    "\n",
    "\n",
    "# Calculate the quality of the predictions with the r2 score\n",
    "r2 = r2_score(y_test, y_pred_phys)\n",
    "\n",
    "# Save the model with keras\n",
    "model.save(f\"../models/regressor_mlp_customloss_{target}.keras\")\n",
    "\n",
    "print(f\"Prediction r2_score: {r2:.4f}\")"
   ]
  },
  {
   "cell_type": "code",
   "execution_count": 5,
   "id": "a1bff505",
   "metadata": {
    "scrolled": true
   },
   "outputs": [
    {
     "name": "stderr",
     "output_type": "stream",
     "text": [
      "/home/mtimpe/anaconda3/envs/amld21repML/lib/python3.8/site-packages/tensorflow/python/keras/engine/training.py:2325: UserWarning: `Model.state_updates` will be removed in a future version. This property should not be used in TensorFlow 2.0, as `updates` are applied automatically.\n",
      "  warnings.warn('`Model.state_updates` will be removed in a future version. '\n"
     ]
    },
    {
     "name": "stdout",
     "output_type": "stream",
     "text": [
      "CPU times: user 17min 39s, sys: 17min 53s, total: 35min 32s\n",
      "Wall time: 4min 35s\n",
      "Prediction r2_score: 0.9538\n"
     ]
    }
   ],
   "source": [
    "# Define model (MLP) using Keras\n",
    "from keras import backend as K\n",
    "import tensorflow as tf\n",
    "import sys\n",
    "\n",
    "from tensorflow.python.framework.ops import disable_eager_execution\n",
    "\n",
    "disable_eager_execution()\n",
    "\n",
    "\n",
    "# Define custom loss function\n",
    "def custom_loss_wrapper(input_tensor, overshoot_weight=0.5, positivity_weight=0.5):\n",
    "    \n",
    "    @tf.autograph.experimental.do_not_convert\n",
    "    def custom_loss(y_true, y_pred):\n",
    "        \n",
    "        s1 = input_tensor[:,0] \n",
    "        \n",
    "        overshoot = K.mean(ReLU()(Lambda(lambda x: x)(Subtract()([y_pred,s1]))))\n",
    "        positivity = K.mean(ReLU()(Lambda(lambda x: -x)(y_pred)))\n",
    "        \n",
    "        loss = keras.losses.mean_squared_error(y_true, y_pred) \\\n",
    "                + overshoot_weight * overshoot \\\n",
    "                + positivity_weight * positivity\n",
    "        \n",
    "        return loss\n",
    "    \n",
    "    return custom_loss\n",
    "\n",
    "\n",
    "# Define model\n",
    "inputs = Input(shape=(input_size,))\n",
    "f = Dense(neurons, activation='relu')(inputs)\n",
    "f = Dense(neurons, activation='relu')(f)\n",
    "f = Dense(neurons, activation='relu')(f)\n",
    "outputs = Dense(1)(f)\n",
    "\n",
    "model = keras.Model(inputs, outputs)\n",
    "\n",
    "model.compile('Adam', loss=custom_loss_wrapper(inputs), metrics=[\"mse\"])\n",
    "\n",
    "# Fit model\n",
    "%time model.fit(x_train, y_train, validation_split=0.05, epochs=500, callbacks=[EarlyStopping(patience=50)], verbose=0)\n",
    "\n",
    "# Make predictions\n",
    "y_pred_phys = model.predict(x_test)\n",
    "\n",
    "\n",
    "# Calculate the quality of the predictions with the r2 score\n",
    "r2 = r2_score(y_test, y_pred_phys)\n",
    "\n",
    "# Save the model with keras\n",
    "model.save(f\"../models/regressor_mlp_customloss_{target}.keras\")\n",
    "\n",
    "print(f\"Prediction r2_score: {r2:.4f}\")"
   ]
  },
  {
   "cell_type": "markdown",
   "id": "140b9360",
   "metadata": {},
   "source": [
    "### Correlation plots for single-target regressor"
   ]
  },
  {
   "cell_type": "code",
   "execution_count": 6,
   "id": "e9ebdfce",
   "metadata": {},
   "outputs": [
    {
     "data": {
      "image/png": "[encoded data removed]",
      "text/plain": [
       "<Figure size 864x432 with 2 Axes>"
      ]
     },
     "metadata": {
      "needs_background": "light"
     },
     "output_type": "display_data"
    }
   ],
   "source": [
    "fig, axes = plt.subplots(1, 2, figsize=(12,6), sharex=True, sharey=True)\n",
    "\n",
    "\n",
    "y_test_norm = []\n",
    "y_naive_norm = []\n",
    "y_phys_norm = []\n",
    "\n",
    "for m_tot, y_t, y_p, y_c in zip(x_test.mtotal, y_test, y_pred_naive, y_pred_phys):\n",
    "    y_test_norm.append( y_t / m_tot )\n",
    "    y_naive_norm.append( y_p / m_tot )\n",
    "    y_phys_norm.append( y_c / m_tot )\n",
    "    \n",
    "\n",
    "ax = axes[0]\n",
    "\n",
    "ax.set_title('Naive (single-target)')\n",
    "ax.set_xlabel('True Value')\n",
    "ax.set_ylabel('Predicted Value')\n",
    "\n",
    "ax.grid(True)\n",
    "\n",
    "ax.scatter(y_test_norm, y_naive_norm, marker='.', color='dodgerblue')\n",
    "\n",
    "ax.plot([0,1], [0,1], color='red')\n",
    "\n",
    "\n",
    "ax = axes[1]\n",
    "\n",
    "ax.set_title('Physics-guided (single-target)')\n",
    "ax.set_xlabel('True Value')\n",
    "\n",
    "ax.grid(True)\n",
    "\n",
    "ax.scatter(y_test_norm, y_phys_norm, marker='.', color='dodgerblue')\n",
    "\n",
    "ax.plot([0,1], [0,1], color='red')\n",
    "\n",
    "plt.tight_layout()"
   ]
  },
  {
   "cell_type": "markdown",
   "id": "a9327ba2",
   "metadata": {},
   "source": [
    "## Conservation laws with multi-target regressors"
   ]
  },
  {
   "cell_type": "markdown",
   "id": "8eb82c35",
   "metadata": {},
   "source": [
    "Now, we want to predict all masses at the same time, and ensure consistency with the input.\n",
    "\n",
    "We want to set up a model which will predict the three mass quantities together, and guarantee conservation of mass.\n",
    "\n",
    "$$ \\mathcal{M}(\\vec{x}) = \\vec{m}, \\quad \\vec{m} = (m_{lr}, m_{slr}, m_{debris}) $$\n",
    "\n",
    "under the constraint that\n",
    "\n",
    "$$ m_{tot} = m_{lr} + m_{slr} + m_{debris} $$"
   ]
  },
  {
   "cell_type": "markdown",
   "id": "d9d012ee",
   "metadata": {},
   "source": [
    "### Load data\n",
    "\n",
    "Note that we don't scale the features or targets in this case. We could do this, but it would require a bit of extra work within the loss function to apply the inverse scalers to the masses in order to compute the proper sum of the masses. In this case, we have decided to operate on the unscaled data in order to keep things simple and readable."
   ]
  },
  {
   "cell_type": "code",
   "execution_count": 7,
   "id": "2356d473",
   "metadata": {},
   "outputs": [],
   "source": [
    "targets = ['lr_mass','slr_mass','debris_mass']\n",
    "\n",
    "features = ['mtotal', 'gamma', 'b_inf', 'v_inf',\n",
    "            'targ_core_fraction', 'targ_omega', 'targ_theta', 'targ_phi',\n",
    "            'proj_core_fraction', 'proj_omega', 'proj_theta', 'proj_phi'\n",
    "           ] + targets\n",
    "\n",
    "x_train = pd.read_csv('../datasets/train.csv', usecols=features)\n",
    "x_test  = pd.read_csv('../datasets/test.csv', usecols=features)\n",
    "\n",
    "x_train = x_train[x_train['lr_mass'] > 0]\n",
    "x_test  = x_test[x_test['lr_mass'] > 0]\n",
    "\n",
    "y_train = x_train[targets].copy()\n",
    "y_test  = x_test[targets].copy()\n",
    "\n",
    "x_train = x_train.drop(targets, axis=1)\n",
    "x_test  = x_test.drop(targets, axis=1)"
   ]
  },
  {
   "cell_type": "markdown",
   "id": "abe4100f",
   "metadata": {},
   "source": [
    "### Set up naive multi-target regressor"
   ]
  },
  {
   "cell_type": "code",
   "execution_count": 8,
   "id": "c756064c",
   "metadata": {},
   "outputs": [
    {
     "name": "stderr",
     "output_type": "stream",
     "text": [
      "/home/mtimpe/anaconda3/envs/amld21repML/lib/python3.8/site-packages/tensorflow/python/keras/engine/training.py:2325: UserWarning: `Model.state_updates` will be removed in a future version. This property should not be used in TensorFlow 2.0, as `updates` are applied automatically.\n",
      "  warnings.warn('`Model.state_updates` will be removed in a future version. '\n"
     ]
    },
    {
     "name": "stdout",
     "output_type": "stream",
     "text": [
      "CPU times: user 15min 52s, sys: 16min 15s, total: 32min 8s\n",
      "Wall time: 4min 10s\n",
      "Naive multi-target regressor\n",
      "             lr_mass\t0.9627\n",
      "            slr_mass\t0.8251\n",
      "         debris_mass\t0.9016\n"
     ]
    }
   ],
   "source": [
    "# Define model\n",
    "inputs = Input(shape=(input_size,))\n",
    "f = Dense(neurons, activation='relu')(inputs)\n",
    "f = Dense(neurons, activation='relu')(f)\n",
    "f = Dense(neurons, activation='relu')(f)\n",
    "outputs = Dense(3)(f)\n",
    "\n",
    "model = keras.Model(inputs, outputs)\n",
    "\n",
    "model.compile('Adam', loss=\"mse\", metrics=[\"mse\"])\n",
    "\n",
    "\n",
    "# Fit model\n",
    "%time model.fit(x_train, y_train, validation_split=0.05, epochs=500, callbacks=[EarlyStopping(patience=50)], verbose=0)\n",
    "\n",
    "# Make predictions\n",
    "y_pred_naive = model.predict(x_test)\n",
    "\n",
    "\n",
    "# Calculate the quality of the predictions with the r2 score\n",
    "r2 = r2_score(y_test.values, y_pred_naive, multioutput=\"raw_values\")\n",
    "\n",
    "print('Naive multi-target regressor')\n",
    "for i, name in enumerate(targets):\n",
    "    print(f\"{name:>20}\\t{r2[i]:.4f}\")"
   ]
  },
  {
   "cell_type": "markdown",
   "id": "79a98bd6",
   "metadata": {},
   "source": [
    "### Physics-guided multi-target regressor\n",
    "\n",
    "We now attempt to impose knowledge of mass conservation on our model. In order to acheive this, we need to predict all three masses simultaneously using a multi-target regressor. We will still use the same 12 input features, but this time we will be predicting three output targets."
   ]
  },
  {
   "cell_type": "code",
   "execution_count": 9,
   "id": "893f4a2a",
   "metadata": {},
   "outputs": [
    {
     "name": "stderr",
     "output_type": "stream",
     "text": [
      "/home/mtimpe/anaconda3/envs/amld21repML/lib/python3.8/site-packages/tensorflow/python/keras/engine/training.py:2325: UserWarning: `Model.state_updates` will be removed in a future version. This property should not be used in TensorFlow 2.0, as `updates` are applied automatically.\n",
      "  warnings.warn('`Model.state_updates` will be removed in a future version. '\n"
     ]
    },
    {
     "name": "stdout",
     "output_type": "stream",
     "text": [
      "CPU times: user 19min 44s, sys: 19min 45s, total: 39min 29s\n",
      "Wall time: 5min 2s\n",
      "Physics-guided multi-target regressor\n",
      "             lr_mass\t0.9624\n",
      "            slr_mass\t0.8898\n",
      "         debris_mass\t0.9336\n"
     ]
    }
   ],
   "source": [
    "# Define model (MLP) using Keras\n",
    "from keras import backend as K\n",
    "import tensorflow as tf\n",
    "import sys\n",
    "\n",
    "from tensorflow.python.framework.ops import disable_eager_execution\n",
    "\n",
    "disable_eager_execution()\n",
    "\n",
    "\n",
    "# Define custom loss function\n",
    "def custom_loss_wrapper(input_tensor, overshoot_weight=0.5,positivity_weight=0.5):\n",
    "    \n",
    "    @tf.autograph.experimental.do_not_convert\n",
    "    def custom_loss(y_true,y_pred):\n",
    "        \n",
    "        s1 = input_tensor[:,0]\n",
    "        \n",
    "        sum_of_mass = K.sum(y_pred, axis=1)\n",
    "        \n",
    "        overshoot = K.mean(ReLU()(Lambda(lambda x: x)(Subtract()([sum_of_mass,s1]))))\n",
    "        \n",
    "        positivity_lr = K.mean(ReLU()(Lambda(lambda x: -x)(y_pred[:,0])))\n",
    "        positivity_slr = K.mean(ReLU()(Lambda(lambda x: -x)(y_pred[:,1])))\n",
    "        positivity_debris = K.mean(ReLU()(Lambda(lambda x: -x)(y_pred[:,2])))\n",
    "        \n",
    "        return keras.losses.mean_squared_error(y_true, y_pred) \\\n",
    "                + overshoot_weight * overshoot \\\n",
    "                + positivity_weight * (positivity_lr + positivity_slr + positivity_debris)\n",
    "    \n",
    "    return custom_loss\n",
    "\n",
    "\n",
    "# Define model\n",
    "inputs = Input(shape=(input_size,))\n",
    "f = Dense(neurons, activation='relu')(inputs)\n",
    "f = Dense(neurons, activation='relu')(f)\n",
    "f = Dense(neurons, activation='relu')(f)\n",
    "outputs = Dense(3)(f)\n",
    "\n",
    "model = keras.Model(inputs, outputs)\n",
    "\n",
    "model.compile('Adam', loss=custom_loss_wrapper(inputs), metrics=[\"mse\"])\n",
    "\n",
    "\n",
    "# Fit model\n",
    "%time model.fit(x_train, y_train, validation_split=0.05, epochs=500, callbacks=[EarlyStopping(patience=50)], verbose=0)\n",
    "\n",
    "# Make predictions\n",
    "y_pred_phys = model.predict(x_test)\n",
    "\n",
    "\n",
    "# Calculate the quality of the predictions with the r2 score\n",
    "r2 = r2_score(y_test, y_pred_phys, multioutput=\"raw_values\")\n",
    "\n",
    "print('Physics-guided multi-target regressor')\n",
    "for i, name in enumerate(targets):\n",
    "    print(f\"{name:>20}\\t{r2[i]:.4f}\")\n",
    "\n",
    "# Save the model with keras\n",
    "model.save(f\"../models/regressor_mlp_constrained_multi_{target}.keras\")"
   ]
  },
  {
   "cell_type": "markdown",
   "id": "8e549689",
   "metadata": {},
   "source": [
    "### Mass residual histogram"
   ]
  },
  {
   "cell_type": "code",
   "execution_count": 10,
   "id": "96551c58",
   "metadata": {},
   "outputs": [
    {
     "name": "stdout",
     "output_type": "stream",
     "text": [
      "[1655.5779   358.77225  447.93216]\n"
     ]
    },
    {
     "data": {
      "image/png": "[encoded data removed]",
      "text/plain": [
       "<Figure size 864x288 with 1 Axes>"
      ]
     },
     "metadata": {
      "needs_background": "light"
     },
     "output_type": "display_data"
    }
   ],
   "source": [
    "print(np.sum(y_pred_naive, axis=0))\n",
    "\n",
    "mtot_est_naive = np.sum(y_pred_naive, axis=1)\n",
    "residual_naive = (x_test.values[:,0] - mtot_est_naive)**2.\n",
    "\n",
    "mtot_est_phys = np.sum(y_pred_phys, axis=1)\n",
    "residual_phys = (x_test.values[:,0] - mtot_est_phys)**2.\n",
    "\n",
    "fig, ax = plt.subplots(1, 1, figsize=(12,4))\n",
    "\n",
    "ax.hist([residual_naive, residual_phys], bins=50, label=['Naive', 'Physics-Guided'])\n",
    "\n",
    "ax.set_xlabel('Mass Residual')\n",
    "\n",
    "ax.set_ylabel('N')\n",
    "ax.set_yscale('log')\n",
    "\n",
    "ax.legend()\n",
    "\n",
    "plt.tight_layout()"
   ]
  },
  {
   "cell_type": "code",
   "execution_count": null,
   "id": "d313f268",
   "metadata": {},
   "outputs": [],
   "source": []
  }
 ],
 "metadata": {
  "kernelspec": {
   "display_name": "Python 3",
   "language": "python",
   "name": "python3"
  },
  "language_info": {
   "codemirror_mode": {
    "name": "ipython",
    "version": 3
   },
   "file_extension": ".py",
   "mimetype": "text/x-python",
   "name": "python",
   "nbconvert_exporter": "python",
   "pygments_lexer": "ipython3",
   "version": "3.8.5"
  }
 },
 "nbformat": 4,
 "nbformat_minor": 5
}
