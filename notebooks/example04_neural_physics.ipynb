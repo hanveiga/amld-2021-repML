{
 "cells": [
  {
   "cell_type": "markdown",
   "metadata": {},
   "source": [
    "# AMLD 2021\n",
    "\n",
    "> ##### Machine Learning in Science: Encoding physical constraints and good development practices\n",
    "\n",
    "\n",
    "## Example 04 - Physics \"embedding\" through the neural network\n",
    "\n",
    "In this notebook, we demonstrating a method for ensuring physical consistency of the predictions by incoorporating knownledge in the neural network\n",
    "\n",
    "### Workshop Organizers\n",
    "\n",
    "* Dr. Maria Han Veiga (University of Michigan, USA)\n",
    "\n",
    "* Dr. Miles Timpe (University of Zurich, Switzerland)"
   ]
  },
  {
   "cell_type": "markdown",
   "metadata": {},
   "source": [
    "### Import libraries"
   ]
  },
  {
   "cell_type": "code",
   "execution_count": 140,
   "metadata": {},
   "outputs": [
    {
     "name": "stdout",
     "output_type": "stream",
     "text": [
      "Python version: 3.8.3 (default, Jul  2 2020, 11:26:31) \n",
      "[Clang 10.0.0 ]\n"
     ]
    }
   ],
   "source": [
    "from joblib import dump, load\n",
    "import matplotlib.pyplot as plt\n",
    "import numpy as np\n",
    "import os\n",
    "import pandas as pd\n",
    "import random\n",
    "from sklearn.metrics import r2_score\n",
    "\n",
    "\n",
    "# Global seed value\n",
    "seed = 42\n",
    "\n",
    "# Set random seeds\n",
    "random.seed(seed)\n",
    "os.environ['PYTHONHASHSEED'] = str(seed)\n",
    "np.random.seed(seed)\n",
    "\n",
    "\n",
    "# Versions can also influence reproducibility\n",
    "from sys import version\n",
    "print(f\"Python version: {version}\")"
   ]
  },
  {
   "cell_type": "markdown",
   "metadata": {},
   "source": [
    "### Load test data and scalers"
   ]
  },
  {
   "cell_type": "markdown",
   "metadata": {},
   "source": [
    "We focus first on lr_mass."
   ]
  },
  {
   "cell_type": "code",
   "execution_count": 141,
   "metadata": {},
   "outputs": [],
   "source": [
    "target = 'lr_mass'\n",
    "\n",
    "features = ['mtotal', 'gamma', 'b_inf', 'v_inf',\n",
    "            'targ_core_fraction', 'targ_omega', 'targ_theta', 'targ_phi',\n",
    "            'proj_core_fraction', 'proj_omega', 'proj_theta', 'proj_phi',\n",
    "            target]\n",
    "\n",
    "x_train = pd.read_csv('../datasets/train.csv', usecols=features)\n",
    "x_test  = pd.read_csv('../datasets/test.csv', usecols=features)\n",
    "\n",
    "y_train = x_train.pop(target)\n",
    "y_test  = x_test.pop(target)\n",
    "\n",
    "# Load scalers and scale targets\n",
    "scalers = {}\n",
    "data = {}\n",
    "\n",
    "y_scaler = load(f\"../models/y_scaler_{target}.joblib\")\n",
    "\n",
    "scaled_y_train = y_scaler.transform(y_train.values.reshape(-1, 1))\n",
    "scaled_y_test  = y_scaler.transform(y_test.values.reshape(-1, 1))\n",
    "    \n",
    "# Scale features\n",
    "x_scaler = load(f\"../models/x_scaler.joblib\")\n",
    "\n",
    "scaled_x_train = pd.DataFrame(x_scaler.transform(x_train), columns=x_train.columns)\n",
    "scaled_x_test = pd.DataFrame(x_scaler.transform(x_test), columns=x_test.columns)"
   ]
  },
  {
   "cell_type": "markdown",
   "metadata": {},
   "source": [
    "### Setup physics informed neural network\n",
    "\n",
    "Here, we will first focus on the 'lr_mass' target"
   ]
  },
  {
   "cell_type": "code",
   "execution_count": 142,
   "metadata": {},
   "outputs": [
    {
     "name": "stderr",
     "output_type": "stream",
     "text": [
      "/Users/seriousmaria/anaconda3/lib/python3.8/site-packages/tensorflow/python/keras/engine/training.py:2325: UserWarning: `Model.state_updates` will be removed in a future version. This property should not be used in TensorFlow 2.0, as `updates` are applied automatically.\n",
      "  warnings.warn('`Model.state_updates` will be removed in a future version. '\n"
     ]
    }
   ],
   "source": [
    "# Define model (MLP) using Keras\n",
    "import keras\n",
    "from keras.models import Sequential\n",
    "from keras.layers import Input, Dense, Subtract, Lambda, add, ReLU\n",
    "from keras.callbacks import EarlyStopping\n",
    "\n",
    "target = 'lr_mass'\n",
    "\n",
    "_, input_size = scaled_x_train.shape\n",
    "\n",
    "# load previously trained model\n",
    "model_uninformed = keras.models.load_model(f\"../models/regressor_mlp_{target}.keras\")\n",
    "y_pred_naive = model_uninformed.predict(scaled_x_test)\n",
    "# Apply inverse scaling to the model predictions\n",
    "y_scaler = load(f\"../models/y_scaler_{target}.joblib\")\n",
    "\n",
    "y_pred_naive = pd.Series(y_scaler.inverse_transform(y_pred_naive.flatten()), name='y_pred').values\n"
   ]
  },
  {
   "cell_type": "markdown",
   "metadata": {},
   "source": [
    "## How do we encode the constraint?\n",
    "\n",
    "We want to penalise the model if the prediction of 'lr_mass' is larger than 'mtot'.   \n",
    "\n",
    "This means, if the quantity (lr_mass - mtot) is positive, then we are generating mass.   \n",
    "\n",
    "We can use a ReLU on this quantity, this way, if this quantity is positive, it will contribute to the loss. If this quantity is 0 or negative, lr_mass is smaller than mtot and it does not contribute to the loss.\n",
    "\n",
    "\n",
    "$$ ReLU(lr_{mass} - m_{tot}) = \\left\\{\n",
    "\\begin{array}{ll}\n",
    "      0 & m_{tot} \\geq lr_{mass} \\\\\n",
    "      lr_{mass} - m_{tot} & \\mbox{ otherwise}\n",
    "\\end{array} \\right. $$"
   ]
  },
  {
   "cell_type": "code",
   "execution_count": 148,
   "metadata": {},
   "outputs": [
    {
     "name": "stderr",
     "output_type": "stream",
     "text": [
      "/Users/seriousmaria/anaconda3/lib/python3.8/site-packages/tensorflow/python/keras/engine/training.py:2325: UserWarning: `Model.state_updates` will be removed in a future version. This property should not be used in TensorFlow 2.0, as `updates` are applied automatically.\n",
      "  warnings.warn('`Model.state_updates` will be removed in a future version. '\n"
     ]
    },
    {
     "name": "stdout",
     "output_type": "stream",
     "text": [
      "Prediction r2_score: 0.9793\n"
     ]
    }
   ],
   "source": [
    "# Define model (MLP) using Keras\n",
    "from keras import backend as K\n",
    "import tensorflow as tf\n",
    "import sys\n",
    "\n",
    "from tensorflow.python.framework.ops import disable_eager_execution\n",
    "\n",
    "disable_eager_execution()\n",
    "\n",
    "\n",
    "def custom_loss_wrapper(input_tensor, overshoot_weight=0.5):\n",
    "    def custom_loss(y_true,y_pred):\n",
    "        s1 = input_tensor[:,0] \n",
    "        overshoot = K.mean(ReLU()(Lambda(lambda x: x)(Subtract()([y_pred,s1]))))\n",
    "        positivity = K.mean(ReLU()(Lambda(lambda x: -x)(y_pred)))\n",
    "        return keras.losses.mean_squared_error(y_true, y_pred) + overshoot_weight*overshoot + 0.1*positivity\n",
    "    return custom_loss\n",
    "\n",
    "inputs = Input(shape=(input_size,))\n",
    "f = Dense(24,activation='relu')(inputs)\n",
    "f = Dense(24,activation='relu')(f)\n",
    "f = Dense(24,activation='relu')(f)\n",
    "outputs = Dense(1)(f)\n",
    "\n",
    "model = keras.Model(inputs, outputs)\n",
    "\n",
    "model.compile('Adam', loss=custom_loss_wrapper(inputs),metrics=[\"mse\"])\n",
    "\n",
    "# Fit model\n",
    "model.fit(x_train, y_train, validation_split = 0.05, epochs=1000, callbacks=[EarlyStopping(patience=70)],verbose=0)\n",
    "\n",
    "# Make predictions\n",
    "y_pred = model.predict(x_test)\n",
    "\n",
    "# Calculate the quality of the predictions with the r2 score\n",
    "r2 = r2_score(y_test, y_pred)\n",
    "\n",
    "# Save the model with keras\n",
    "model.save(f\"../models/regressor_mlp_customloss_{target}.keras\")\n",
    "\n",
    "print(f\"Prediction r2_score: {r2:.4f}\")"
   ]
  },
  {
   "cell_type": "code",
   "execution_count": 149,
   "metadata": {},
   "outputs": [
    {
     "data": {
      "text/plain": [
       "[<matplotlib.lines.Line2D at 0x7fd885e2d040>]"
      ]
     },
     "execution_count": 149,
     "metadata": {},
     "output_type": "execute_result"
    },
    {
     "data": {
      "image/png": "[encoded data removed]",
      "text/plain": [
       "<Figure size 432x288 with 1 Axes>"
      ]
     },
     "metadata": {
      "needs_background": "light"
     },
     "output_type": "display_data"
    }
   ],
   "source": [
    "#plt.plot(y_test,y_pred,ls=\"None\",marker='.')\n",
    "plt.plot(x_test['mtotal'].values,y_pred,ls=\"None\",marker='.')\n",
    "#plt.plot(y_test,y_pred_naive,ls=\"None\",marker='.')\n",
    "plt.plot(x_test['mtotal'].values,y_pred_naive,ls=\"None\",marker='.')"
   ]
  },
  {
   "cell_type": "markdown",
   "metadata": {},
   "source": [
    "Now, we want to predict all masses at the same time, and ensure consistency with the input.\n",
    "\n",
    "We want to set up a model which will predict the three mass quantities together, and guarantee conservation of mass.\n",
    "\n",
    "$$ \\mathcal{M}(\\vec{x}) = \\vec{m}, \\quad \\vec{m} = (lr_{mass}, slr_{mass}, debris_{mass}) $$\n",
    "\n",
    "under the constraint that\n",
    "\n",
    "$$ m_{tot} = lr_{mass} + slr_{mass} + debris_{mass} $$"
   ]
  },
  {
   "cell_type": "code",
   "execution_count": 150,
   "metadata": {},
   "outputs": [],
   "source": [
    "## Load data"
   ]
  },
  {
   "cell_type": "code",
   "execution_count": 202,
   "metadata": {},
   "outputs": [],
   "source": [
    "targets = ['lr_mass','slr_mass','debris_mass']\n",
    "\n",
    "features = ['mtotal', 'gamma', 'b_inf', 'v_inf',\n",
    "            'targ_core_fraction', 'targ_omega', 'targ_theta', 'targ_phi',\n",
    "            'proj_core_fraction', 'proj_omega', 'proj_theta', 'proj_phi']\n",
    "\n",
    "x_train = pd.read_csv('../datasets/train.csv', usecols=features)\n",
    "x_test  = pd.read_csv('../datasets/test.csv', usecols=features)\n",
    "\n",
    "y_train = pd.read_csv('../datasets/train.csv', usecols=targets)\n",
    "y_test  = pd.read_csv('../datasets/test.csv', usecols=targets)"
   ]
  },
  {
   "cell_type": "code",
   "execution_count": 203,
   "metadata": {},
   "outputs": [],
   "source": [
    "## Set up naive model"
   ]
  },
  {
   "cell_type": "code",
   "execution_count": 204,
   "metadata": {},
   "outputs": [
    {
     "name": "stderr",
     "output_type": "stream",
     "text": [
      "/Users/seriousmaria/anaconda3/lib/python3.8/site-packages/tensorflow/python/keras/engine/training.py:2325: UserWarning: `Model.state_updates` will be removed in a future version. This property should not be used in TensorFlow 2.0, as `updates` are applied automatically.\n",
      "  warnings.warn('`Model.state_updates` will be removed in a future version. '\n"
     ]
    }
   ],
   "source": [
    "inputs = Input(shape=(input_size,))\n",
    "f = Dense(24,activation='relu')(inputs)\n",
    "f = Dense(24,activation='relu')(f)\n",
    "f = Dense(24,activation='relu')(f)\n",
    "outputs = Dense(3)(f)\n",
    "\n",
    "model = keras.Model(inputs, outputs)\n",
    "\n",
    "model.compile('Adam', loss=\"mse\",metrics=[\"mse\"])\n",
    "\n",
    "# Fit model\n",
    "model.fit(x_train, y_train, validation_split = 0.05, epochs=500, callbacks=[EarlyStopping(patience=70)],verbose=0)\n",
    "\n",
    "# Make predictions\n",
    "y_pred_naive = model.predict(x_test)\n",
    "\n",
    "# Calculate the quality of the predictions with the r2 score\n",
    "r2 = r2_score(y_test.values, y_pred_naive, multioutput=\"raw_values\")\n",
    "\n",
    "# Save the model with keras\n",
    "#model.save(f\"../models/regressor_mlp_customloss_{target}.keras\")\n",
    "\n",
    "#print(f\"Prediction r2_score: {r2:.4f}\")"
   ]
  },
  {
   "cell_type": "code",
   "execution_count": 212,
   "metadata": {},
   "outputs": [
    {
     "name": "stdout",
     "output_type": "stream",
     "text": [
      "[0.97196536 0.86684584 0.98120694]\n"
     ]
    }
   ],
   "source": [
    "r2 = r2_score(y_test.values, y_pred_naive, multioutput=\"raw_values\")\n",
    "print(r2)"
   ]
  },
  {
   "cell_type": "code",
   "execution_count": 183,
   "metadata": {},
   "outputs": [
    {
     "name": "stdout",
     "output_type": "stream",
     "text": [
      "0.9845679437399064\n",
      "0.9363460692332634\n",
      "0.9819478276238545\n"
     ]
    }
   ],
   "source": [
    "for i in range(3):\n",
    "    print(r2_score(y_test.values[:,i],y_pred[:,i]))"
   ]
  },
  {
   "cell_type": "code",
   "execution_count": null,
   "metadata": {},
   "outputs": [],
   "source": [
    "## Set up physics aware model"
   ]
  },
  {
   "cell_type": "code",
   "execution_count": 187,
   "metadata": {},
   "outputs": [
    {
     "name": "stderr",
     "output_type": "stream",
     "text": [
      "/Users/seriousmaria/anaconda3/lib/python3.8/site-packages/tensorflow/python/keras/engine/training.py:2325: UserWarning: `Model.state_updates` will be removed in a future version. This property should not be used in TensorFlow 2.0, as `updates` are applied automatically.\n",
      "  warnings.warn('`Model.state_updates` will be removed in a future version. '\n"
     ]
    },
    {
     "ename": "TypeError",
     "evalue": "unsupported format string passed to numpy.ndarray.__format__",
     "output_type": "error",
     "traceback": [
      "\u001b[0;31m---------------------------------------------------------------------------\u001b[0m",
      "\u001b[0;31mTypeError\u001b[0m                                 Traceback (most recent call last)",
      "\u001b[0;32m<ipython-input-187-be0bc96d6441>\u001b[0m in \u001b[0;36m<module>\u001b[0;34m\u001b[0m\n\u001b[1;32m     42\u001b[0m \u001b[0mmodel\u001b[0m\u001b[0;34m.\u001b[0m\u001b[0msave\u001b[0m\u001b[0;34m(\u001b[0m\u001b[0;34mf\"../models/regressor_mlp_customloss_{target}.keras\"\u001b[0m\u001b[0;34m)\u001b[0m\u001b[0;34m\u001b[0m\u001b[0;34m\u001b[0m\u001b[0m\n\u001b[1;32m     43\u001b[0m \u001b[0;34m\u001b[0m\u001b[0m\n\u001b[0;32m---> 44\u001b[0;31m \u001b[0mprint\u001b[0m\u001b[0;34m(\u001b[0m\u001b[0;34mf\"Prediction r2_score: {r2:.4f}\"\u001b[0m\u001b[0;34m)\u001b[0m\u001b[0;34m\u001b[0m\u001b[0;34m\u001b[0m\u001b[0m\n\u001b[0m",
      "\u001b[0;31mTypeError\u001b[0m: unsupported format string passed to numpy.ndarray.__format__"
     ]
    }
   ],
   "source": [
    "# Define model (MLP) using Keras\n",
    "from keras import backend as K\n",
    "import tensorflow as tf\n",
    "import sys\n",
    "\n",
    "from tensorflow.python.framework.ops import disable_eager_execution\n",
    "\n",
    "disable_eager_execution()\n",
    "\n",
    "def custom_loss_wrapper(input_tensor, overshoot_weight=0.5):\n",
    "    def custom_loss(y_true,y_pred):\n",
    "        s1 = input_tensor[:,0]\n",
    "        sum_of_mass = K.sum(y_pred,axis=1)\n",
    "        overshoot = K.mean(ReLU()(Lambda(lambda x: x)(Subtract()([sum_of_mass,s1]))))\n",
    "        positivity_lr = K.mean(ReLU()(Lambda(lambda x: -x)(y_pred[:,0])))\n",
    "        positivity_slr = K.mean(ReLU()(Lambda(lambda x: -x)(y_pred[:,1])))\n",
    "        positivity_debris = K.mean(ReLU()(Lambda(lambda x: -x)(y_pred[:,2])))\n",
    "        return keras.losses.mean_squared_error(y_true, y_pred) + overshoot_weight*overshoot\\\n",
    "                + 0.1*(positivity_lr + positivity_slr + positivity_debris)\n",
    "    return custom_loss\n",
    "\n",
    "inputs = Input(shape=(input_size,))\n",
    "f = Dense(24,activation='relu')(inputs)\n",
    "f = Dense(24,activation='relu')(f)\n",
    "f = Dense(24,activation='relu')(f)\n",
    "outputs = Dense(3)(f)\n",
    "\n",
    "model = keras.Model(inputs, outputs)\n",
    "\n",
    "model.compile('Adam', loss=custom_loss_wrapper(inputs),metrics=[\"mse\"])\n",
    "\n",
    "# Fit model\n",
    "model.fit(x_train, y_train, validation_split = 0.05, epochs=500, callbacks=[EarlyStopping(patience=70)],verbose=0)\n",
    "\n",
    "# Make predictions\n",
    "y_pred = model.predict(x_test)\n",
    "\n",
    "# Calculate the quality of the predictions with the r2 score\n",
    "r2 = r2_score(y_test, y_pred, multioutput=\"raw_values\")\n",
    "\n",
    "# Save the model with keras\n",
    "model.save(f\"../models/regressor_mlp_customloss_{target}.keras\")\n",
    "\n",
    "print(f\"Prediction r2_score: {r2:.4f}\")"
   ]
  },
  {
   "cell_type": "code",
   "execution_count": 211,
   "metadata": {},
   "outputs": [
    {
     "name": "stdout",
     "output_type": "stream",
     "text": [
      "[0.98180912 0.92734481 0.98232397]\n"
     ]
    }
   ],
   "source": [
    "r2 = r2_score(y_test, y_pred, multioutput=\"raw_values\")\n",
    "print(r2)"
   ]
  },
  {
   "cell_type": "code",
   "execution_count": null,
   "metadata": {},
   "outputs": [],
   "source": [
    "print(np.sum(y_pred_naive,axis=0))\n",
    "\n",
    "mtot_est_naive = np.sum(y_pred_naive,axis=1)\n",
    "residual_naive = (x_test.values[:,0] - mtot_est_naive)**2.\n",
    "\n",
    "mtot_est_phys = np.sum(y_pred,axis=1)\n",
    "residual_phys = (x_test.values[:,0] - mtot_est_phys)**2.\n",
    "\n",
    "plt.hist(residual_naive,bins=50)\n",
    "plt.hist(residual_phys,bins=50)"
   ]
  },
  {
   "cell_type": "code",
   "execution_count": 200,
   "metadata": {},
   "outputs": [
    {
     "data": {
      "text/plain": [
       "array([0.30227053, 0.4666669 , 0.19390029, ..., 1.5966623 , 0.16967231,\n",
       "       0.30766466], dtype=float32)"
      ]
     },
     "execution_count": 200,
     "metadata": {},
     "output_type": "execute_result"
    }
   ],
   "source": []
  },
  {
   "cell_type": "code",
   "execution_count": null,
   "metadata": {},
   "outputs": [],
   "source": []
  }
 ],
 "metadata": {
  "kernelspec": {
   "display_name": "Python 3",
   "language": "python",
   "name": "python3"
  },
  "language_info": {
   "codemirror_mode": {
    "name": "ipython",
    "version": 3
   },
   "file_extension": ".py",
   "mimetype": "text/x-python",
   "name": "python",
   "nbconvert_exporter": "python",
   "pygments_lexer": "ipython3",
   "version": "3.8.3"
  }
 },
 "nbformat": 4,
 "nbformat_minor": 5
}
